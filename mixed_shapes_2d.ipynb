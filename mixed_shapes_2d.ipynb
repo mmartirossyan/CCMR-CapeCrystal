{
 "cells": [
  {
   "cell_type": "markdown",
   "metadata": {
    "id": "84vHJ-kmwP6x"
   },
   "source": [
    "# Binary shapes in 2D\n",
    "### Simulation written by Rachael Skye and Maya Martirossyan"
   ]
  },
  {
   "cell_type": "markdown",
   "metadata": {},
   "source": [
    "### Preparation"
   ]
  },
  {
   "cell_type": "code",
   "execution_count": 4,
   "metadata": {},
   "outputs": [
    {
     "name": "stdout",
     "output_type": "stream",
     "text": [
      "hello\n"
     ]
    }
   ],
   "source": [
    "#Cell 1\n",
    "\n",
    "print(\"hello\")"
   ]
  },
  {
   "cell_type": "code",
   "execution_count": 2,
   "metadata": {
    "id": "NYeKfgqfnqSK"
   },
   "outputs": [],
   "source": [
    "#Cell 2\n",
    "\n",
    "!tar -xzf ./hoomd-v2.9.7.tar.gz\n",
    "#!pip install pip-tools\n",
    "#!pip-compile requirements.txt"
   ]
  },
  {
   "cell_type": "code",
   "execution_count": 5,
   "metadata": {
    "id": "RgNG1ae_wP60"
   },
   "outputs": [],
   "source": [
    "#Cell 3\n",
    "\n",
    "# importing modules\n",
    "\n",
    "import hoomd\n",
    "import hoomd.hpmc as hpmc\n",
    "import coxeter\n",
    "import ipywidgets as widgets\n",
    "import gsd, gsd.hoomd\n",
    "import numpy as np\n",
    "import matplotlib.pyplot as pp\n",
    "import random\n",
    "import rowan\n",
    "#%gui qt"
   ]
  },
  {
   "cell_type": "markdown",
   "metadata": {
    "id": "_PdRAcxIwP62"
   },
   "source": [
    "### Helper Functions\n",
    "\n",
    "Setting up some functions that we will use throughout our simulation code. These need to be evaluated, but do not need to be interacted with.  If you have time, you can read through this section to understand what is happening, but if you don't then skip down Choosing Parameters"
   ]
  },
  {
   "cell_type": "code",
   "execution_count": 6,
   "metadata": {
    "id": "JPH-ct7PwP62"
   },
   "outputs": [],
   "source": [
    "#Cell 4\n",
    "\n",
    "# Functions for defining shapes\n",
    "\n",
    "get_3D_Shape = coxeter.families.RegularNGonFamily()\n",
    "\n",
    "def make3D(vertex_list):\n",
    "    \"\"\"\n",
    "    input: vertex_list for 2D shapes\n",
    "    output: vertex_list for same shapes but \"in 3D\"\n",
    "    \"\"\"\n",
    "    to_add = np.transpose([np.zeros(len(vertex_list))])\n",
    "    vertex_list = np.concatenate([vertex_list,to_add],axis=1)\n",
    "    return vertex_list\n",
    "\n",
    "def get_shape(vertex_count):\n",
    "    return make3D(get_3D_Shape.make_vertices(vertex_count))\n",
    "\n",
    "\n",
    "#Colors of each shape\n",
    "# setting colors\n",
    "# RGB values between 0 and 1\n",
    "color_A = np.float32(np.divide([255, 50, 150], 255)) #pink\n",
    "color_B = np.float32(np.divide([0, 200, 100], 255)) #green\n",
    "colors = [color_A, color_B]"
   ]
  },
  {
   "cell_type": "code",
   "execution_count": 7,
   "metadata": {
    "id": "qBDUrxNkwP63"
   },
   "outputs": [],
   "source": [
    "#Cell 5\n",
    "# Functions for initializing the simulation with HOOMD\n",
    "\n",
    "def initialize(num_particles): \n",
    "    init = hoomd.init.create_lattice(unitcell=hoomd.lattice.unitcell(N=2,\n",
    "                                                                  a1=[3,0,0],\n",
    "                                                                  a2=[0,6,0],\n",
    "                                                                  a3=[0,0,1],\n",
    "                                                                  dimensions=2,\n",
    "                                                                  position=[[0,0,0],\n",
    "                                                                            [0,3,0]],\n",
    "                                                                  type_name=[\"A\",\"B\"]),\n",
    "                                n=[num_particles,int(1/2*num_particles)])\n",
    "    return(init)\n",
    "    \n",
    "    \n",
    "def set_shape_ratio(system, ratio):\n",
    "    # taking snapshot of the first frame\n",
    "    snap = system.take_snapshot()\n",
    "\n",
    "    # defining particle types\n",
    "    snap.particles.types = [\"A\",\"B\"]\n",
    "\n",
    "    nParticles = len(snap.particles.typeid)\n",
    "    \n",
    "    # first, assign all particles to be type B\n",
    "    for p in range(nParticles):\n",
    "        snap.particles.typeid[p] = 1\n",
    "    \n",
    "    # next, randomly assign certain particles to be type A\n",
    "    partnum_A = int(nParticles*ratio)\n",
    "    idlistA=[]\n",
    "    for p in range(partnum_A):\n",
    "        r = random.randint(0, nParticles - 1)\n",
    "        while r in idlistA:\n",
    "            r = random.randint(0, nParticles - 1)\n",
    "        snap.particles.typeid[r] = 0\n",
    "        idlistA.append(r)\n",
    "        \n",
    "    return snap\n",
    "\n",
    "def start_monte_carlo():\n",
    "    return hpmc.integrate.convex_polygon(seed=np.random.randint(1,1e6), d=0.5, a=0.5, move_ratio=0.5)\n",
    "\n",
    "def start_box_mc(total_steps,max_pressure):\n",
    "    return hpmc.update.boxmc(monte_carlo, hoomd.variant.linear_interp(points=[[0,1],[total_steps,max_pressure]],zero=0), \n",
    "                          np.random.randint(1,1e6))"
   ]
  },
  {
   "cell_type": "code",
   "execution_count": 53,
   "metadata": {
    "id": "ZreSQRSJwP64"
   },
   "outputs": [],
   "source": [
    "#Cell 6\n",
    "# Functions for visualizing our simulation\n",
    "       \n",
    "def getFrameCount(fname):\n",
    "    \"\"\"\n",
    "    inputs: fname, the filename (ex: 'dump.gsd')\n",
    "    outputs: len(traj), number of frames in simulation\n",
    "    \"\"\"\n",
    "    with gsd.hoomd.open(fname, 'rb') as traj:\n",
    "        return len(traj)\n",
    "    \n",
    "def drawFrame(frame, vertices, boxLimit):\n",
    "    pp.figure(figsize=(10,10))\n",
    "    \n",
    "    for p in range(len(frame.particles.position)):\n",
    "            pos = frame.particles.position[p]\n",
    "            unrotatedVerts = vertices[frame.particles.typeid[p]]\n",
    "            orientation = frame.particles.orientation[p]\n",
    "            \n",
    "            rotatedVerts = rowan.rotate(orientation,unrotatedVerts)\n",
    "            location= rotatedVerts + pos\n",
    "            x = location[:, 0]\n",
    "            y = location[:, 1]\n",
    "            color = colors[frame.particles.typeid[p]]\n",
    "\n",
    "            pp.fill(x, y, color = color)\n",
    "            \n",
    "            pp.xlim(-boxLimit, boxLimit)\n",
    "            pp.ylim(-boxLimit, boxLimit)\n",
    "    "
   ]
  },
  {
   "cell_type": "markdown",
   "metadata": {
    "id": "mLecxbbCwP65"
   },
   "source": [
    "### Choosing parameters\n",
    "\n",
    "This includes choosing the two shapes we will be using, the ratio between the shapes, and the total number of shapes in the simulation box. Here, user input is important! \n",
    "\n",
    "As a scientist, you will want to also make a prediction (hypothesis) at this point. Think about how the simulation outcome might depend on your choice of shapes and their ratio. A good experiment also only changes one thing at a time -- decide which parameter you'd like to vary and which you'd like to keep constant."
   ]
  },
  {
   "cell_type": "code",
   "execution_count": 80,
   "metadata": {
    "id": "dxNZegBnwP65",
    "tags": []
   },
   "outputs": [],
   "source": [
    "#Cell 7\n",
    "# we will be using regular polygons for our shapes\n",
    "\n",
    "# choose shapes by the number of vertices that shape has\n",
    "# Example: verticesA = get_shape(3) will choose triangles for shapeA\n",
    "verticesA = get_shape(4)\n",
    "verticesB = get_shape(5)"
   ]
  },
  {
   "cell_type": "code",
   "execution_count": 81,
   "metadata": {
    "colab": {
     "base_uri": "https://localhost:8080/",
     "height": 49,
     "referenced_widgets": [
      "b9cc89f31f414ceaad70dbfbb3f0297c",
      "722a3165643c4d3684053e6ec163f4ef",
      "8bdbc130b3ed4cb2b9e90f85871f764e"
     ]
    },
    "id": "IktjwFnQwP66",
    "outputId": "10d529ca-f8d7-4b24-f583-a040da708f57"
   },
   "outputs": [],
   "source": [
    "#cell 8\n",
    "# choose a fraction between 0 and 1\n",
    "# which will represent the percent of shapes that are shape A\n",
    "# example:\n",
    "# shape_ratio = 0 means all the shapes will be shape B\n",
    "\n",
    "shape_ratio = 0.8"
   ]
  },
  {
   "cell_type": "code",
   "execution_count": 82,
   "metadata": {
    "id": "BWZJaMPjwP66"
   },
   "outputs": [],
   "source": [
    "#Cell 9\n",
    "# setting number of particles along one side of our simulation box\n",
    "# which is the square root of the total number of particles\n",
    "\n",
    "num_particles_sqrt = 8"
   ]
  },
  {
   "cell_type": "markdown",
   "metadata": {
    "id": "GDCPJmFvwP67"
   },
   "source": [
    "### Initializing the simulation\n",
    "\n",
    "Here, we will use the functions for simulation initialization written above, and execute them with the inputs given by the user. We can then visualize what we've initialized -- the first frame of the simulation."
   ]
  },
  {
   "cell_type": "code",
   "execution_count": 83,
   "metadata": {
    "colab": {
     "base_uri": "https://localhost:8080/"
    },
    "id": "BAzGBxO3wP67",
    "outputId": "ad1d3267-6034-461d-c26b-382da193d740"
   },
   "outputs": [
    {
     "name": "stdout",
     "output_type": "stream",
     "text": [
      "notice(2): Group \"all\" created containing 64 particles\n"
     ]
    }
   ],
   "source": [
    "#Cell 10\n",
    "hoomd.context.initialize(\"--mode=cpu\");\n",
    "\n",
    "# defining the first frame of our simulation\n",
    "# set up lattice of particles\n",
    "system = initialize(num_particles_sqrt)\n",
    "\n",
    "#Set the system to have the correct shape ratio\n",
    "system_with_shapes = set_shape_ratio(system, shape_ratio)\n",
    "    \n",
    "system.restore_snapshot(system_with_shapes)\n",
    "\n",
    "boxSize = system.box.Lx"
   ]
  },
  {
   "cell_type": "code",
   "execution_count": 84,
   "metadata": {
    "colab": {
     "base_uri": "https://localhost:8080/"
    },
    "id": "SGk2mcjNwP67",
    "outputId": "65f411c2-5bb2-4a22-f638-684c11fef88e"
   },
   "outputs": [
    {
     "data": {
      "image/png": "[encoded data removed]",
      "text/plain": [
       "<Figure size 720x720 with 1 Axes>"
      ]
     },
     "metadata": {
      "needs_background": "light"
     },
     "output_type": "display_data"
    }
   ],
   "source": [
    "#Cell 11\n",
    "# visualizing our initial frame\n",
    "\n",
    "initial_frame = system.take_snapshot()\n",
    "\n",
    "drawFrame(initial_frame, [verticesA, verticesB], 1/2 * boxSize)    "
   ]
  },
  {
   "cell_type": "markdown",
   "metadata": {},
   "source": [
    "Now, we need to set parameters for the simulation itself. This has a couple steps -- first, we set some basic parameters, such as timesteps, pressure, and how 'hard' we are shaking our simulation box (more technically, how large our steps/rotations are)."
   ]
  },
  {
   "cell_type": "code",
   "execution_count": 85,
   "metadata": {},
   "outputs": [],
   "source": [
    "#Cell 12\n",
    "#simulation parameters\n",
    "\n",
    "# pressure and time settings\n",
    "total_steps = 2e5\n",
    "max_pressure = 10\n",
    "\n",
    "#Monte Carlo simulation settings for the particles\n",
    "monte_carlo = start_monte_carlo()\n",
    "\n",
    "#pass in our chosen shapes\n",
    "monte_carlo.shape_param.set('A', vertices=verticesA)\n",
    "monte_carlo.shape_param.set('B', vertices=verticesB)\n",
    "\n",
    "#Monte Carlo settings for the \"box\" which applies pressure to the particles\n",
    "box_monte_carlo = start_box_mc(total_steps, max_pressure)\n",
    "\n",
    "#Set the box to shrink with \"delta\"\n",
    "box_monte_carlo.volume(delta=1.0, weight=1.0);\n",
    "\n",
    "# define \"tuners\" that will help the simulation run smoothly\n",
    "# by adjusting how far particles move in each timestep\n",
    "particle_tuner = hpmc.util.tune(obj=monte_carlo, tunables=['d','a'], target=0.2)\n",
    "box_tuner = hpmc.util.tune_npt(obj=box_monte_carlo, tunables=['dV'],  target=0.2)\n",
    "\n",
    "\n",
    "def update_tuner(particle_tuner, box_tuner):\n",
    "    particle_tuner.update()\n",
    "    box_tuner.update()"
   ]
  },
  {
   "cell_type": "markdown",
   "metadata": {
    "id": "S14QnQsXwP68"
   },
   "source": [
    "### Running the simulation\n",
    "\n",
    "In the next cell, we record the data in the form of a gsd file (with the simulation frames) and a log file (with some simulation parameters that help us see how volume and pressure are changing).\n",
    "\n",
    "Note: If you have already run a simulation, make sure to update the filename that your new simulation will be saved to (in the second cell below)."
   ]
  },
  {
   "cell_type": "code",
   "execution_count": 86,
   "metadata": {
    "id": "xji0rlqdwP68"
   },
   "outputs": [
    {
     "name": "stdout",
     "output_type": "stream",
     "text": [
      "file name for this simulation is  shapeA_4_shapeB_5_shape_ratio_0.8\n"
     ]
    }
   ],
   "source": [
    "#Cell 13\n",
    "# simulation setup\n",
    "\n",
    "#begin by choosing a unique filename to save our simulation data under\n",
    "file_name = \"shapeA_\" + str(len(verticesA)) + \"_shapeB_\" + str(len(verticesB)) + \"_shape_ratio_\" + str(shape_ratio)\n",
    "\n",
    "print('file name for this simulation is ', file_name)\n",
    "\n",
    "all=hoomd.group.all()"
   ]
  },
  {
   "cell_type": "code",
   "execution_count": 87,
   "metadata": {
    "id": "TlAk633RwP68"
   },
   "outputs": [],
   "source": [
    "#Cell 14\n",
    "# record data\n",
    "\n",
    "# for visualizations\n",
    "movie_file = hoomd.dump.gsd(filename=file_name+'.gsd',period=int(total_steps/100),group=all,overwrite=True)\n",
    "movie_file.dump_shape(monte_carlo)\n",
    "\n",
    "# for plots\n",
    "#record data as specified in \"quantities\"\n",
    "data_file = hoomd.analyze.log(filename=file_name+'.txt',\n",
    "    quantities=['hpmc_d', #how far particles are trying to move\n",
    "                'lx', #length of box side\n",
    "                'hpmc_boxmc_betaP', #pressure\n",
    "                'hpmc_overlap_count' #how many particles are in the same spot. Should always be 0\n",
    "                ],\n",
    "    period=int(total_steps/100),\n",
    "    overwrite=True)"
   ]
  },
  {
   "cell_type": "code",
   "execution_count": 88,
   "metadata": {
    "id": "imL21QJQwP69"
   },
   "outputs": [
    {
     "name": "stdout",
     "output_type": "stream",
     "text": [
      "** starting run **\n",
      "Time 00:00:11 | Step 71220 / 200000 | TPS 7121.92 | ETA 00:00:18\n",
      "Time 00:00:21 | Step 136945 / 200000 | TPS 6572.48 | ETA 00:00:09\n",
      "Time 00:00:31 | Step 195588 / 200000 | TPS 5864.22 | ETA 00:00:00\n",
      "Time 00:00:32 | Step 200000 / 200000 | TPS 5619.71 | ETA 00:00:00\n",
      "Average TPS: 6496.45\n",
      "---------\n",
      "notice(2): -- HPMC stats:\n",
      "notice(2): Average translate acceptance: 0.206497\n",
      "notice(2): Average rotate acceptance:    0.529442\n",
      "notice(2): Trial moves per second:        1.66306e+06\n",
      "notice(2): Overlap checks per second:     2.76997e+07\n",
      "notice(2): Overlap checks per trial move: 16.6559\n",
      "notice(2): Number of overlap errors:      0\n",
      "notice(2): -- HPMC box change stats:\n",
      "notice(2): Average volume acceptance: 0.28695\n",
      "notice(2): Total box changes:        200000\n",
      "** run complete **\n"
     ]
    }
   ],
   "source": [
    "#Cell 15\n",
    "# running simulation\n",
    "\n",
    "# defining number of times we will tune the step size parameters\n",
    "number_loops = 100\n",
    "loop_steps = int(total_steps/number_loops)\n",
    "\n",
    "hoomd.run(total_steps, \n",
    "          callback_period = loop_steps, \n",
    "          callback = lambda tuner: update_tuner(particle_tuner,box_tuner))"
   ]
  },
  {
   "cell_type": "markdown",
   "metadata": {
    "id": "a9iQF67iwP69"
   },
   "source": [
    "### Visualizing your simulation\n",
    "\n",
    "Your simulation is now complete! It's time to see what the result was."
   ]
  },
  {
   "cell_type": "code",
   "execution_count": 89,
   "metadata": {},
   "outputs": [
    {
     "data": {
      "application/vnd.jupyter.widget-view+json": {
       "model_id": "142ca550d6454c8f8ca1d92981ce378c",
       "version_major": 2,
       "version_minor": 0
      },
      "text/plain": [
       "interactive(children=(IntSlider(value=0, description='frame_index', max=99), Output()), _dom_classes=('widget-…"
      ]
     },
     "metadata": {},
     "output_type": "display_data"
    }
   ],
   "source": [
    "#Cell 16\n",
    "\n",
    "#make sure to choose the filename corresponding to the simulation you want to watch\n",
    "#Uncomment the next line (remove the # ) and edit the text in quotes if you want to change the filename.\n",
    "#file_name = \"file_name_here\"\n",
    "\n",
    "frame_num = getFrameCount(file_name + '.gsd')\n",
    "\n",
    "# visualizations\n",
    "# looping over frames\n",
    "\n",
    "@widgets.interact(frame_index=(0, frame_num-1, 1))\n",
    "def plot(frame_index=0):\n",
    "    with gsd.hoomd.open(file_name+\".gsd\", 'rb') as traj:\n",
    "        \n",
    "        frame = traj[frame_index]\n",
    "        box = frame.configuration.box\n",
    "        \n",
    "        drawFrame(frame, [verticesA, verticesB], 1/2*boxSize)\n",
    "\n",
    "        \n",
    "            "
   ]
  },
  {
   "cell_type": "markdown",
   "metadata": {
    "id": "wd-LJZitwP6-"
   },
   "source": [
    "### Plotting simulation data"
   ]
  },
  {
   "cell_type": "code",
   "execution_count": 90,
   "metadata": {
    "id": "Le1CqvnwwP6-"
   },
   "outputs": [
    {
     "name": "stdout",
     "output_type": "stream",
     "text": [
      "loaded data for: shapeA_4_shapeB_5_shape_ratio_0.8\n"
     ]
    }
   ],
   "source": [
    "#Cell 17\n",
    "\n",
    "# Make sure to use the right file name\n",
    "data = np.loadtxt(file_name+'.txt',skiprows=1) #skiprows makes sure we skip the labels on the table\n",
    "\n",
    "print(\"loaded data for: \" + file_name)"
   ]
  },
  {
   "cell_type": "code",
   "execution_count": 91,
   "metadata": {
    "id": "GjqCSYE0wP6_"
   },
   "outputs": [
    {
     "data": {
      "image/png": "[encoded data removed]",
      "text/plain": [
       "<Figure size 432x288 with 1 Axes>"
      ]
     },
     "metadata": {
      "needs_background": "light"
     },
     "output_type": "display_data"
    }
   ],
   "source": [
    "#Cell 18\n",
    "# Volume changes with time\n",
    "\n",
    "#tables are referred to by entry number\n",
    "#entry 0 is timestep\n",
    "#entry 2 is the box size\n",
    "#entry 3 is the pressure\n",
    "\n",
    "time = data[:,0]\n",
    "lx = data[:,2]\n",
    "pressure = data[:,3]\n",
    "\n",
    "volume = lx ** 2 #square of length is area\n",
    "\n",
    "pp.scatter(time, volume);\n",
    "pp.title('Volume change over timesteps');\n",
    "pp.xlabel('Steps');\n",
    "pp.ylabel('Volume');"
   ]
  },
  {
   "cell_type": "code",
   "execution_count": 92,
   "metadata": {
    "id": "Yr26c4xQwP6_"
   },
   "outputs": [
    {
     "data": {
      "image/png": "[encoded data removed]",
      "text/plain": [
       "<Figure size 432x288 with 1 Axes>"
      ]
     },
     "metadata": {
      "needs_background": "light"
     },
     "output_type": "display_data"
    }
   ],
   "source": [
    "#Cell 19\n",
    "# Volume changes with pressure\n",
    "\n",
    "pp.scatter(pressure, volume);\n",
    "pp.title('Volume change over pressure');\n",
    "pp.xlabel('Pressure');\n",
    "pp.ylabel('Volume');"
   ]
  },
  {
   "cell_type": "code",
   "execution_count": 93,
   "metadata": {
    "id": "hb62Oeu5wP6_"
   },
   "outputs": [
    {
     "data": {
      "text/plain": [
       "(8.0, 10.0)"
      ]
     },
     "execution_count": 93,
     "metadata": {},
     "output_type": "execute_result"
    },
    {
     "data": {
      "image/png": "[encoded data removed]",
      "text/plain": [
       "<Figure size 432x288 with 1 Axes>"
      ]
     },
     "metadata": {
      "needs_background": "light"
     },
     "output_type": "display_data"
    }
   ],
   "source": [
    "#Cell 20\n",
    "# Zoom in on the part below the initial compression\n",
    "\n",
    "pp.scatter(pressure, volume);\n",
    "pp.title('Volume change over pressure');\n",
    "pp.xlabel('Pressure');\n",
    "pp.ylabel('Volume');\n",
    "\n",
    "#change y limits here\n",
    "pp.ylim(400,1000)\n",
    "#change x limits here\n",
    "pp.xlim(8,10)"
   ]
  },
  {
   "cell_type": "code",
   "execution_count": null,
   "metadata": {},
   "outputs": [],
   "source": []
  }
 ],
 "metadata": {
  "colab": {
   "collapsed_sections": [],
   "name": "mixed_shapes_2d.ipynb",
   "provenance": []
  },
  "kernelspec": {
   "display_name": "Python 3",
   "language": "python",
   "name": "python3"
  },
  "language_info": {
   "codemirror_mode": {
    "name": "ipython",
    "version": 3
   },
   "file_extension": ".py",
   "mimetype": "text/x-python",
   "name": "python",
   "nbconvert_exporter": "python",
   "pygments_lexer": "ipython3",
   "version": "3.8.5"
  },
  "widgets": {
   "application/vnd.jupyter.widget-state+json": {
    "722a3165643c4d3684053e6ec163f4ef": {
     "model_module": "@jupyter-widgets/controls",
     "model_module_version": "1.5.0",
     "model_name": "SliderStyleModel",
     "state": {
      "_model_module": "@jupyter-widgets/controls",
      "_model_module_version": "1.5.0",
      "_model_name": "SliderStyleModel",
      "_view_count": null,
      "_view_module": "@jupyter-widgets/base",
      "_view_module_version": "1.2.0",
      "_view_name": "StyleView",
      "description_width": "",
      "handle_color": null
     }
    },
    "8bdbc130b3ed4cb2b9e90f85871f764e": {
     "model_module": "@jupyter-widgets/base",
     "model_module_version": "1.2.0",
     "model_name": "LayoutModel",
     "state": {
      "_model_module": "@jupyter-widgets/base",
      "_model_module_version": "1.2.0",
      "_model_name": "LayoutModel",
      "_view_count": null,
      "_view_module": "@jupyter-widgets/base",
      "_view_module_version": "1.2.0",
      "_view_name": "LayoutView",
      "align_content": null,
      "align_items": null,
      "align_self": null,
      "border": null,
      "bottom": null,
      "display": null,
      "flex": null,
      "flex_flow": null,
      "grid_area": null,
      "grid_auto_columns": null,
      "grid_auto_flow": null,
      "grid_auto_rows": null,
      "grid_column": null,
      "grid_gap": null,
      "grid_row": null,
      "grid_template_areas": null,
      "grid_template_columns": null,
      "grid_template_rows": null,
      "height": null,
      "justify_content": null,
      "justify_items": null,
      "left": null,
      "margin": null,
      "max_height": null,
      "max_width": null,
      "min_height": null,
      "min_width": null,
      "object_fit": null,
      "object_position": null,
      "order": null,
      "overflow": null,
      "overflow_x": null,
      "overflow_y": null,
      "padding": null,
      "right": null,
      "top": null,
      "visibility": null,
      "width": null
     }
    },
    "b9cc89f31f414ceaad70dbfbb3f0297c": {
     "model_module": "@jupyter-widgets/controls",
     "model_module_version": "1.5.0",
     "model_name": "FloatSliderModel",
     "state": {
      "_dom_classes": [],
      "_model_module": "@jupyter-widgets/controls",
      "_model_module_version": "1.5.0",
      "_model_name": "FloatSliderModel",
      "_view_count": null,
      "_view_module": "@jupyter-widgets/controls",
      "_view_module_version": "1.5.0",
      "_view_name": "FloatSliderView",
      "continuous_update": true,
      "description": "Shape ratio (%A):",
      "description_tooltip": null,
      "disabled": false,
      "layout": "IPY_MODEL_8bdbc130b3ed4cb2b9e90f85871f764e",
      "max": 1,
      "min": 0,
      "orientation": "horizontal",
      "readout": true,
      "readout_format": ".2f",
      "step": 0.01,
      "style": "IPY_MODEL_722a3165643c4d3684053e6ec163f4ef",
      "value": 0.5
     }
    }
   }
  }
 },
 "nbformat": 4,
 "nbformat_minor": 4
}
